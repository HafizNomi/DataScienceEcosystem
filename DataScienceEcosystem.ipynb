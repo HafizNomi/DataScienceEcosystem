{
 "cells": [
  {
   "cell_type": "markdown",
   "id": "3f8e292d",
   "metadata": {},
   "source": [
    "# Data Science Tools and Ecosystem\n"
   ]
  },
  {
   "cell_type": "markdown",
   "id": "138a0b1e",
   "metadata": {},
   "source": [
    "In this notebook, Data Science Tools and Ecosystem are summarized."
   ]
  },
  {
   "cell_type": "markdown",
   "id": "0405794b",
   "metadata": {},
   "source": [
    "Some of the popular languages that Data Scientists use are:\n",
    "1.Python\n",
    "2.Java\n",
    "3.MATLAB\n",
    "4.Scala"
   ]
  },
  {
   "cell_type": "markdown",
   "id": "82b5b998",
   "metadata": {},
   "source": [
    "Some of the commonly used libraries used by Data Scientists include:\n",
    "1.Matplotlib\n",
    "2.SKlearn\n",
    "3.Seaborn\n",
    "4.Pandas\n",
    "5.Pytorch\n",
    "6.Keras"
   ]
  },
  {
   "cell_type": "markdown",
   "id": "8639905b",
   "metadata": {},
   "source": [
    "|Data Science Tool|\n",
    "|---\n",
    "|Seaborn|\n",
    "|Tensorflow|\n",
    "|Keras|"
   ]
  },
  {
   "cell_type": "markdown",
   "id": "6b37b6a7",
   "metadata": {},
   "source": [
    "# Below Some exmple of some arithmatic operation\n"
   ]
  },
  {
   "cell_type": "code",
   "execution_count": 3,
   "id": "be6e624f",
   "metadata": {},
   "outputs": [
    {
     "data": {
      "text/plain": [
       "6.0"
      ]
     },
     "execution_count": 3,
     "metadata": {},
     "output_type": "execute_result"
    }
   ],
   "source": [
    "#this is example of some  arithmatic expression\n",
    "(2+3)*4\n",
    "24/4"
   ]
  },
  {
   "cell_type": "code",
   "execution_count": 4,
   "id": "c247427c",
   "metadata": {},
   "outputs": [
    {
     "data": {
      "text/plain": [
       "3.3333333333333335"
      ]
     },
     "execution_count": 4,
     "metadata": {},
     "output_type": "execute_result"
    }
   ],
   "source": [
    "# this is  coversion of minutes to hour\n",
    "200/60"
   ]
  },
  {
   "cell_type": "markdown",
   "id": "30905915",
   "metadata": {},
   "source": [
    "#### Objective\n",
    "* List the languages of data science.\n",
    "* list the tools of data science.\n",
    "* How to provide to comment in cell\n",
    "* list the liberaries of tools."
   ]
  },
  {
   "cell_type": "markdown",
   "id": "784bd3c9",
   "metadata": {},
   "source": [
    "## Authar\n",
    "* Lakshami Holla\n",
    "* Navidetha Pandith"
   ]
  }
 ],
 "metadata": {
  "kernelspec": {
   "display_name": "Python 3 (ipykernel)",
   "language": "python",
   "name": "python3"
  },
  "language_info": {
   "codemirror_mode": {
    "name": "ipython",
    "version": 3
   },
   "file_extension": ".py",
   "mimetype": "text/x-python",
   "name": "python",
   "nbconvert_exporter": "python",
   "pygments_lexer": "ipython3",
   "version": "3.11.3"
  }
 },
 "nbformat": 4,
 "nbformat_minor": 5
}
